{
 "cells": [
  {
   "cell_type": "code",
   "execution_count": 1,
   "id": "1558f78a",
   "metadata": {
    "_cell_guid": "b1076dfc-b9ad-4769-8c92-a6c4dae69d19",
    "_uuid": "8f2839f25d086af736a60e9eeb907d3b93b6e0e5",
    "execution": {
     "iopub.execute_input": "2023-07-26T16:19:45.211756Z",
     "iopub.status.busy": "2023-07-26T16:19:45.211168Z",
     "iopub.status.idle": "2023-07-26T16:19:45.231311Z",
     "shell.execute_reply": "2023-07-26T16:19:45.229766Z"
    },
    "papermill": {
     "duration": 0.028241,
     "end_time": "2023-07-26T16:19:45.234092",
     "exception": false,
     "start_time": "2023-07-26T16:19:45.205851",
     "status": "completed"
    },
    "tags": []
   },
   "outputs": [
    {
     "name": "stdout",
     "output_type": "stream",
     "text": [
      "/kaggle/input/titanic/train.csv\n",
      "/kaggle/input/titanic/test.csv\n",
      "/kaggle/input/titanic/gender_submission.csv\n"
     ]
    }
   ],
   "source": [
    "# This Python 3 environment comes with many helpful analytics libraries installed\n",
    "# It is defined by the kaggle/python Docker image: https://github.com/kaggle/docker-python\n",
    "# For example, here's several helpful packages to load\n",
    "\n",
    "import numpy as np # linear algebra\n",
    "import pandas as pd # data processing, CSV file I/O (e.g. pd.read_csv)\n",
    "\n",
    "# Input data files are available in the read-only \"../input/\" directory\n",
    "# For example, running this (by clicking run or pressing Shift+Enter) will list all files under the input directory\n",
    "\n",
    "import os\n",
    "for dirname, _, filenames in os.walk('/kaggle/input'):\n",
    "    for filename in filenames:\n",
    "        print(os.path.join(dirname, filename))\n",
    "\n",
    "# You can write up to 20GB to the current directory (/kaggle/working/) that gets preserved as output when you create a version using \"Save & Run All\" \n",
    "# You can also write temporary files to /kaggle/temp/, but they won't be saved outside of the current session"
   ]
  },
  {
   "cell_type": "code",
   "execution_count": 2,
   "id": "7d433ef7",
   "metadata": {
    "execution": {
     "iopub.execute_input": "2023-07-26T16:19:45.241491Z",
     "iopub.status.busy": "2023-07-26T16:19:45.241083Z",
     "iopub.status.idle": "2023-07-26T16:19:45.295298Z",
     "shell.execute_reply": "2023-07-26T16:19:45.294127Z"
    },
    "papermill": {
     "duration": 0.060846,
     "end_time": "2023-07-26T16:19:45.297908",
     "exception": false,
     "start_time": "2023-07-26T16:19:45.237062",
     "status": "completed"
    },
    "tags": []
   },
   "outputs": [
    {
     "name": "stdout",
     "output_type": "stream",
     "text": [
      "0.7420382165605095\n"
     ]
    }
   ],
   "source": [
    "import pandas as pd\n",
    "train= pd.read_csv('/kaggle/input/titanic/train.csv')\n",
    "test = pd.read_csv(\"/kaggle/input/titanic/test.csv\")\n",
    "\n",
    "women=train.loc[train.Sex=='female']['Survived']\n",
    "women_percent = sum(women)/len(women)\n",
    "print(women_percent)"
   ]
  },
  {
   "cell_type": "code",
   "execution_count": 3,
   "id": "4c2d8b37",
   "metadata": {
    "execution": {
     "iopub.execute_input": "2023-07-26T16:19:45.306404Z",
     "iopub.status.busy": "2023-07-26T16:19:45.305576Z",
     "iopub.status.idle": "2023-07-26T16:19:45.316832Z",
     "shell.execute_reply": "2023-07-26T16:19:45.315441Z"
    },
    "papermill": {
     "duration": 0.018761,
     "end_time": "2023-07-26T16:19:45.319567",
     "exception": false,
     "start_time": "2023-07-26T16:19:45.300806",
     "status": "completed"
    },
    "tags": []
   },
   "outputs": [
    {
     "data": {
      "text/plain": [
       "Index(['PassengerId', 'Survived', 'Pclass', 'Name', 'Sex', 'Age', 'SibSp',\n",
       "       'Parch', 'Ticket', 'Fare', 'Cabin', 'Embarked'],\n",
       "      dtype='object')"
      ]
     },
     "execution_count": 3,
     "metadata": {},
     "output_type": "execute_result"
    }
   ],
   "source": [
    "men=train.loc[train.Sex=='male']['Survived']\n",
    "men_percent = sum(men)/len(men)\n",
    "train.columns"
   ]
  },
  {
   "cell_type": "code",
   "execution_count": 4,
   "id": "8745b728",
   "metadata": {
    "execution": {
     "iopub.execute_input": "2023-07-26T16:19:45.328099Z",
     "iopub.status.busy": "2023-07-26T16:19:45.327607Z",
     "iopub.status.idle": "2023-07-26T16:19:47.718639Z",
     "shell.execute_reply": "2023-07-26T16:19:47.717155Z"
    },
    "papermill": {
     "duration": 2.399322,
     "end_time": "2023-07-26T16:19:47.722177",
     "exception": false,
     "start_time": "2023-07-26T16:19:45.322855",
     "status": "completed"
    },
    "tags": []
   },
   "outputs": [
    {
     "name": "stderr",
     "output_type": "stream",
     "text": [
      "/opt/conda/lib/python3.10/site-packages/scipy/__init__.py:146: UserWarning: A NumPy version >=1.16.5 and <1.23.0 is required for this version of SciPy (detected version 1.23.5\n",
      "  warnings.warn(f\"A NumPy version >={np_minversion} and <{np_maxversion}\"\n"
     ]
    }
   ],
   "source": [
    "from sklearn.ensemble import RandomForestClassifier\n",
    "y=train['Survived']\n",
    "features=['Sex','Pclass','SibSp','Parch']\n",
    "x=pd.get_dummies(train[features])\n",
    "x_test = pd.get_dummies(test[features])\n",
    "model=RandomForestClassifier(n_estimators=100, max_depth=5, random_state=1)\n",
    "model.fit(x,y)\n",
    "result = model.predict(x_test)\n",
    "output = pd.DataFrame({\n",
    "    'PassengerId':test['PassengerId'],\n",
    "    'Survived':result\n",
    "})\n",
    "output.to_csv('Submission_titanic.csv', index=False)"
   ]
  }
 ],
 "metadata": {
  "kernelspec": {
   "display_name": "Python 3",
   "language": "python",
   "name": "python3"
  },
  "language_info": {
   "codemirror_mode": {
    "name": "ipython",
    "version": 3
   },
   "file_extension": ".py",
   "mimetype": "text/x-python",
   "name": "python",
   "nbconvert_exporter": "python",
   "pygments_lexer": "ipython3",
   "version": "3.10.12"
  },
  "papermill": {
   "default_parameters": {},
   "duration": 18.933596,
   "end_time": "2023-07-26T16:19:49.253086",
   "environment_variables": {},
   "exception": null,
   "input_path": "__notebook__.ipynb",
   "output_path": "__notebook__.ipynb",
   "parameters": {},
   "start_time": "2023-07-26T16:19:30.319490",
   "version": "2.4.0"
  }
 },
 "nbformat": 4,
 "nbformat_minor": 5
}
